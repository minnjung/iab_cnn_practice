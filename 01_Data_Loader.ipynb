{
 "cells": [
  {
   "cell_type": "markdown",
   "metadata": {},
   "source": [
    "# Part 1 : Data Loader"
   ]
  },
  {
   "cell_type": "code",
   "execution_count": 1,
   "metadata": {},
   "outputs": [],
   "source": [
    "from __future__ import print_function\n",
    "import tensorflow as tf\n",
    "import numpy as np\n",
    "import os, sys\n",
    "import tarfile\n",
    "import matplotlib.pyplot as plt\n",
    "\n",
    "from IPython.display import display, Image\n",
    "from scipy import ndimage\n",
    "from six.moves.urllib.request import urlretrieve\n",
    "from six.moves import cPickle as pickle\n",
    "from tqdm import tqdm\n",
    "\n",
    "# Config the matplotlib backend as plotting inline in Ipython\n",
    "%matplotlib inline"
   ]
  },
  {
   "cell_type": "code",
   "execution_count": 2,
   "metadata": {},
   "outputs": [
    {
     "name": "stdout",
     "output_type": "stream",
     "text": [
      "Attempting to download :  notMNIST_large.tar.gz\n",
      "./data/notMNIST_large.tar.gz download complete!\n",
      "Attempting to download :  notMNIST_small.tar.gz\n",
      "./data/notMNIST_small.tar.gz download complete!\n"
     ]
    }
   ],
   "source": [
    "url = 'https://commondatastorage.googleapis.com/books1000/'\n",
    "\n",
    "data_root = './data'\n",
    "if not os.path.exists(data_root):\n",
    "    os.mkdir(data_root)\n",
    "    \n",
    "def dataset_downloader(filename):\n",
    "    \"\"\"Download a file if not present.\"\"\"\n",
    "    dest_dir = os.path.join(data_root, filename)\n",
    "    if not os.path.exists(dest_dir):\n",
    "        print('Attempting to download : ', filename)\n",
    "        filename, _ = urlretrieve(url + filename, dest_dir)\n",
    "        print(filename, 'download complete!')\n",
    "    else:\n",
    "        print(dest_dir, ' already exists.')\n",
    "    \n",
    "    return dest_dir\n",
    "\n",
    "train_filename = dataset_downloader('notMNIST_large.tar.gz')\n",
    "test_filename = dataset_downloader('notMNIST_small.tar.gz')"
   ]
  },
  {
   "cell_type": "code",
   "execution_count": 3,
   "metadata": {},
   "outputs": [
    {
     "name": "stdout",
     "output_type": "stream",
     "text": [
      "Extracting data for ./data/notMNIST_large.\n",
      "['./data/notMNIST_large/A', './data/notMNIST_large/B', './data/notMNIST_large/C', './data/notMNIST_large/D', './data/notMNIST_large/E', './data/notMNIST_large/F', './data/notMNIST_large/G', './data/notMNIST_large/H', './data/notMNIST_large/I', './data/notMNIST_large/J']\n",
      "Extracting data for ./data/notMNIST_small.\n",
      "['./data/notMNIST_small/A', './data/notMNIST_small/B', './data/notMNIST_small/C', './data/notMNIST_small/D', './data/notMNIST_small/E', './data/notMNIST_small/F', './data/notMNIST_small/G', './data/notMNIST_small/H', './data/notMNIST_small/I', './data/notMNIST_small/J']\n"
     ]
    }
   ],
   "source": [
    "num_classes = 10\n",
    "np.random.seed(1000)\n",
    "\n",
    "def data_extract(filename):\n",
    "    root = os.path.splitext(os.path.splitext(filename)[0])[0]  # remove .tar.gz\n",
    "    \n",
    "    if os.path.isdir(root):\n",
    "        print('{} already present - Skipping extraction of {}.'.format(root, filename))\n",
    "    else:\n",
    "        print('Extracting data for {}.'.format(root))\n",
    "        tar = tarfile.open(filename)\n",
    "        sys.stdout.flush()\n",
    "        tar.extractall(data_root)\n",
    "        tar.close()\n",
    "    data_folders = [\n",
    "        os.path.join(root, d) for d in sorted(os.listdir(root))\n",
    "        if os.path.isdir(os.path.join(root, d))]\n",
    "    \n",
    "    if len(data_folders) != num_classes:\n",
    "        raise Exception('Expected {} folders, but found {} instead.'.format(num_classes, len(data_folders)))\n",
    "    \n",
    "    print(data_folders)\n",
    "    return data_folders\n",
    "\n",
    "train_folders = data_extract(train_filename)\n",
    "test_folders = data_extract(test_filename)"
   ]
  },
  {
   "cell_type": "code",
   "execution_count": 4,
   "metadata": {},
   "outputs": [
    {
     "name": "stdout",
     "output_type": "stream",
     "text": [
      "Pickling ./data/notMNIST_large/A.pickle\n"
     ]
    },
    {
     "name": "stderr",
     "output_type": "stream",
     "text": [
      "/home/minjung/anaconda3/envs/py_36/lib/python3.6/site-packages/ipykernel_launcher.py:13: DeprecationWarning: `imread` is deprecated!\n",
      "`imread` is deprecated in SciPy 1.0.0.\n",
      "Use ``matplotlib.pyplot.imread`` instead.\n",
      "  del sys.path[0]\n"
     ]
    },
    {
     "name": "stdout",
     "output_type": "stream",
     "text": [
      "cannot identify image file './data/notMNIST_large/A/Um9tYW5hIEJvbGQucGZi.png' - skip\n",
      "cannot identify image file './data/notMNIST_large/A/SG90IE11c3RhcmQgQlROIFBvc3Rlci50dGY=.png' - skip\n",
      "cannot identify image file './data/notMNIST_large/A/RnJlaWdodERpc3BCb29rSXRhbGljLnR0Zg==.png' - skip\n",
      "Full dataset tensor: (52909, 28, 28)\n",
      "Pickling ./data/notMNIST_large/B.pickle\n",
      "cannot identify image file './data/notMNIST_large/B/TmlraXNFRi1TZW1pQm9sZEl0YWxpYy5vdGY=.png' - skip\n",
      "Full dataset tensor: (52911, 28, 28)\n",
      "Pickling ./data/notMNIST_large/C.pickle\n",
      "Full dataset tensor: (52912, 28, 28)\n",
      "Pickling ./data/notMNIST_large/D.pickle\n",
      "cannot identify image file './data/notMNIST_large/D/VHJhbnNpdCBCb2xkLnR0Zg==.png' - skip\n",
      "Full dataset tensor: (52911, 28, 28)\n",
      "Pickling ./data/notMNIST_large/E.pickle\n",
      "Full dataset tensor: (52912, 28, 28)\n",
      "Pickling ./data/notMNIST_large/F.pickle\n",
      "Full dataset tensor: (52912, 28, 28)\n",
      "Pickling ./data/notMNIST_large/G.pickle\n",
      "Full dataset tensor: (52912, 28, 28)\n",
      "Pickling ./data/notMNIST_large/H.pickle\n",
      "Full dataset tensor: (52912, 28, 28)\n",
      "Pickling ./data/notMNIST_large/I.pickle\n",
      "Full dataset tensor: (52912, 28, 28)\n",
      "Pickling ./data/notMNIST_large/J.pickle\n",
      "Full dataset tensor: (52911, 28, 28)\n",
      "Pickling ./data/notMNIST_small/A.pickle\n",
      "cannot identify image file './data/notMNIST_small/A/RGVtb2NyYXRpY2FCb2xkT2xkc3R5bGUgQm9sZC50dGY=.png' - skip\n",
      "Full dataset tensor: (1872, 28, 28)\n",
      "Pickling ./data/notMNIST_small/B.pickle\n",
      "Full dataset tensor: (1873, 28, 28)\n",
      "Pickling ./data/notMNIST_small/C.pickle\n",
      "Full dataset tensor: (1873, 28, 28)\n",
      "Pickling ./data/notMNIST_small/D.pickle\n",
      "Full dataset tensor: (1873, 28, 28)\n",
      "Pickling ./data/notMNIST_small/E.pickle\n",
      "Full dataset tensor: (1873, 28, 28)\n",
      "Pickling ./data/notMNIST_small/F.pickle\n",
      "cannot identify image file './data/notMNIST_small/F/Q3Jvc3NvdmVyIEJvbGRPYmxpcXVlLnR0Zg==.png' - skip\n",
      "Full dataset tensor: (1872, 28, 28)\n",
      "Pickling ./data/notMNIST_small/G.pickle\n",
      "Full dataset tensor: (1872, 28, 28)\n",
      "Pickling ./data/notMNIST_small/H.pickle\n",
      "Full dataset tensor: (1872, 28, 28)\n",
      "Pickling ./data/notMNIST_small/I.pickle\n",
      "Full dataset tensor: (1872, 28, 28)\n",
      "Pickling ./data/notMNIST_small/J.pickle\n",
      "Full dataset tensor: (1872, 28, 28)\n"
     ]
    }
   ],
   "source": [
    "image_size = 28  # Pixel width and height.\n",
    "pixel_depth = 255.0  # Number of levels per pixel.\n",
    "\n",
    "def load_letter(folder):\n",
    "    \"\"\"Load the data for a single letter label.\"\"\"\n",
    "    image_files = os.listdir(folder)\n",
    "    dataset = np.ndarray(shape=(len(image_files), image_size, image_size), dtype=np.float32)\n",
    "    \n",
    "    num_images = 0\n",
    "    for image in image_files:\n",
    "        image_file = os.path.join(folder, image)\n",
    "        try:\n",
    "            image_data = (ndimage.imread(image_file).astype(float) - pixel_depth / 2) / pixel_depth\n",
    "            if image_data.shape != (image_size, image_size):\n",
    "                raise Exception('Unexpected image shape: {str(image_data.shape)}'.format(str(image_data.shape)))\n",
    "            dataset[num_images, :, :] = image_data\n",
    "            num_images = num_images + 1\n",
    "        except IOError as e:\n",
    "            print('{} - skip'.format(e))\n",
    "    \n",
    "    dataset = dataset[0:num_images, :, :]\n",
    "    print('Full dataset tensor:', dataset.shape)\n",
    "    \n",
    "    return dataset\n",
    "        \n",
    "def make_pickle(data_folders):\n",
    "    dataset_names = []\n",
    "    for folder in data_folders:\n",
    "        set_filename = folder + '.pickle'\n",
    "        dataset_names.append(set_filename)\n",
    "        if os.path.exists(set_filename):\n",
    "            print('{} already present - Skipping pickling.'.format(set_filename))\n",
    "            continue\n",
    "        print('Pickling {}'.format(set_filename))\n",
    "        dataset = load_letter(folder)\n",
    "        with open(set_filename, 'wb') as f:\n",
    "            pickle.dump(dataset, f)\n",
    "\n",
    "    return dataset_names\n",
    "\n",
    "train_datasets = make_pickle(train_folders)\n",
    "test_datasets = make_pickle(test_folders)"
   ]
  },
  {
   "cell_type": "code",
   "execution_count": 5,
   "metadata": {},
   "outputs": [
    {
     "name": "stderr",
     "output_type": "stream",
     "text": [
      "100%|██████████| 10/10 [00:01<00:00,  8.15it/s]\n"
     ]
    },
    {
     "name": "stdout",
     "output_type": "stream",
     "text": [
      "(10, 28, 28)\n"
     ]
    },
    {
     "data": {
      "image/png": "[encoded data removed]",
      "text/plain": [
       "<Figure size 432x288 with 10 Axes>"
      ]
     },
     "metadata": {},
     "output_type": "display_data"
    }
   ],
   "source": [
    "images = []\n",
    "for i in tqdm(range(len(train_datasets))):\n",
    "    set_filename = train_datasets[i]\n",
    "    with open(set_filename, 'rb') as f:\n",
    "        dataset = pickle.load(f)\n",
    "    images.append(dataset[1])\n",
    "print(np.shape(images))\n",
    "\n",
    "Row = 2\n",
    "Column = 5\n",
    "for i, image in enumerate(images):\n",
    "    plt.subplot(Row, Column, i+1)\n",
    "    plt.title('Label = {}'.format(os.path.basename(train_datasets[i])[0]))\n",
    "    plt.imshow(image, cmap='gray')\n",
    "    plt.axis('off')\n",
    "plt.show()"
   ]
  },
  {
   "cell_type": "code",
   "execution_count": 6,
   "metadata": {},
   "outputs": [
    {
     "name": "stdout",
     "output_type": "stream",
     "text": [
      "==== For training ====\n",
      "The number of A train images is 52909\n",
      "The number of B train images is 52911\n",
      "The number of C train images is 52912\n",
      "The number of D train images is 52911\n",
      "The number of E train images is 52912\n",
      "The number of F train images is 52912\n",
      "The number of G train images is 52912\n",
      "The number of H train images is 52912\n",
      "The number of I train images is 52912\n",
      "The number of J train images is 52911\n",
      "\n",
      "==== For testing =====\n",
      "The number of A test images is 1872\n",
      "The number of B test images is 1873\n",
      "The number of C test images is 1873\n",
      "The number of D test images is 1873\n",
      "The number of E test images is 1873\n",
      "The number of F test images is 1872\n",
      "The number of G test images is 1872\n",
      "The number of H test images is 1872\n",
      "The number of I test images is 1872\n",
      "The number of J test images is 1872\n"
     ]
    }
   ],
   "source": [
    "print(\"==== For training ====\")\n",
    "for i in range(len(train_datasets)):\n",
    "    set_filename = train_datasets[i]\n",
    "    with open(set_filename, 'rb') as f:\n",
    "        dataset = pickle.load(f)\n",
    "    print(\"The number of {} train images is {}\".format(os.path.basename(set_filename)[0], len(dataset)))\n",
    "\n",
    "print(\"\\n==== For testing =====\")\n",
    "for i in range(len(test_datasets)):\n",
    "    set_filename = test_datasets[i]\n",
    "    with open(set_filename, 'rb') as f:\n",
    "        dataset = pickle.load(f)\n",
    "    print(\"The number of {} test images is {}\".format(os.path.basename(set_filename)[0], len(dataset)))"
   ]
  },
  {
   "cell_type": "code",
   "execution_count": 7,
   "metadata": {},
   "outputs": [
    {
     "name": "stdout",
     "output_type": "stream",
     "text": [
      "Training: (200000, 28, 28) (200000,)\n",
      "Testing: (10000, 28, 28) (10000,)\n"
     ]
    }
   ],
   "source": [
    "def merge_datasets(pickle_files, dataset_size):\n",
    "    num_classes = len(pickle_files)\n",
    "    dataset = np.ndarray((dataset_size, image_size, image_size), dtype=np.float32)\n",
    "    labels = np.ndarray(dataset_size, dtype=np.int32)\n",
    "    tsize_per_class = dataset_size // num_classes\n",
    "\n",
    "    start_t = 0\n",
    "    end_t = tsize_per_class\n",
    "    for label, pickle_file in enumerate(pickle_files):       \n",
    "        with open(pickle_file, 'rb') as f:\n",
    "            letter_set = pickle.load(f)\n",
    "            np.random.shuffle(letter_set)\n",
    "\n",
    "            letter = letter_set[0:tsize_per_class, :, :]\n",
    "            dataset[start_t:end_t, :, :] = letter\n",
    "            labels[start_t:end_t] = label\n",
    "            start_t += tsize_per_class\n",
    "            end_t += tsize_per_class\n",
    "\n",
    "    return dataset, labels\n",
    "\n",
    "\n",
    "train_size = 200000\n",
    "test_size = 10000\n",
    "\n",
    "train_dataset, train_labels = merge_datasets(train_datasets, train_size)\n",
    "test_dataset, test_labels = merge_datasets(test_datasets, test_size)\n",
    "\n",
    "print('Training:', train_dataset.shape, train_labels.shape)\n",
    "print('Testing:', test_dataset.shape, test_labels.shape)"
   ]
  },
  {
   "cell_type": "code",
   "execution_count": 8,
   "metadata": {},
   "outputs": [],
   "source": [
    "def randomize(dataset, labels):\n",
    "    permutation = np.random.permutation(labels.shape[0])\n",
    "    shuffled_dataset = dataset[permutation,:,:]\n",
    "    shuffled_labels = labels[permutation]\n",
    "    return shuffled_dataset, shuffled_labels\n",
    "\n",
    "train_dataset, train_labels = randomize(train_dataset, train_labels)\n",
    "test_dataset, test_labels = randomize(test_dataset, test_labels)"
   ]
  },
  {
   "cell_type": "code",
   "execution_count": 9,
   "metadata": {},
   "outputs": [
    {
     "name": "stdout",
     "output_type": "stream",
     "text": [
      "==== For training ====\n"
     ]
    },
    {
     "data": {
      "image/png": "[encoded data removed]",
      "text/plain": [
       "<Figure size 432x288 with 10 Axes>"
      ]
     },
     "metadata": {},
     "output_type": "display_data"
    },
    {
     "name": "stdout",
     "output_type": "stream",
     "text": [
      "==== For testing ====\n"
     ]
    },
    {
     "data": {
      "image/png": "[encoded data removed]",
      "text/plain": [
       "<Figure size 432x288 with 10 Axes>"
      ]
     },
     "metadata": {},
     "output_type": "display_data"
    }
   ],
   "source": [
    "Row = 2\n",
    "Column = 5\n",
    "ListOfLabel = ['A', 'B', 'C', 'D', 'E', 'F', 'G', 'H', 'I', 'J']\n",
    "\n",
    "print(\"==== For training ====\")\n",
    "images = train_dataset[0:10]\n",
    "labels = train_labels[0:10]\n",
    "for i, image in enumerate(images):\n",
    "    plt.subplot(Row, Column, i+1)\n",
    "    plt.title('Label = {}'.format(ListOfLabel[labels[i]]))\n",
    "    plt.imshow(image, cmap='gray')\n",
    "    plt.axis('off')\n",
    "plt.show()\n",
    "\n",
    "print(\"==== For testing ====\")\n",
    "images = test_dataset[0:10]\n",
    "labels = test_labels[0:10]\n",
    "for i, image in enumerate(images):\n",
    "    plt.subplot(Row, Column, i+1)\n",
    "    plt.title('Label = {}'.format(ListOfLabel[labels[i]]))\n",
    "    plt.imshow(image, cmap='gray')\n",
    "    plt.axis('off')\n",
    "plt.show()"
   ]
  },
  {
   "cell_type": "code",
   "execution_count": 10,
   "metadata": {},
   "outputs": [],
   "source": [
    "pickle_file = os.path.join(data_root, 'notMNIST.pickle')\n",
    "\n",
    "f = open(pickle_file, 'wb')\n",
    "save = {\n",
    "    'train_dataset': train_dataset[:50000,],\n",
    "    'train_labels': train_labels[:50000,],\n",
    "    'test_dataset': test_dataset[:5000,],\n",
    "    'test_labels': test_labels[:5000,],\n",
    "}\n",
    "pickle.dump(save, f, pickle.HIGHEST_PROTOCOL)\n",
    "f.close()"
   ]
  },
  {
   "cell_type": "code",
   "execution_count": null,
   "metadata": {},
   "outputs": [],
   "source": []
  }
 ],
 "metadata": {
  "kernelspec": {
   "display_name": "Python 3",
   "language": "python",
   "name": "python3"
  },
  "language_info": {
   "codemirror_mode": {
    "name": "ipython",
    "version": 3
   },
   "file_extension": ".py",
   "mimetype": "text/x-python",
   "name": "python",
   "nbconvert_exporter": "python",
   "pygments_lexer": "ipython3",
   "version": "3.6.6"
  }
 },
 "nbformat": 4,
 "nbformat_minor": 2
}
